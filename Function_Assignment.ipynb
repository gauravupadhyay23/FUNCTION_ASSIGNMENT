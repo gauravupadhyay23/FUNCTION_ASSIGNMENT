{
 "cells": [
  {
   "cell_type": "markdown",
   "id": "aaf2f7f3-96de-41db-93a9-b1af0f44b430",
   "metadata": {},
   "source": [
    "Q1. Which keyword is used to create a function? Create a function to return a list of odd numbers in the\n",
    "range of 1 to 25."
   ]
  },
  {
   "cell_type": "markdown",
   "id": "36dfcfd5-eb52-4401-8627-e2e00542f11e",
   "metadata": {},
   "source": [
    "A1 . \"def\" is used to create function"
   ]
  },
  {
   "cell_type": "code",
   "execution_count": 1,
   "id": "fc7bcf47-7c9b-40fa-8fba-11caade74d45",
   "metadata": {},
   "outputs": [],
   "source": [
    "def odd(a):\n",
    "    n = []\n",
    "    for i in range(a):\n",
    "        if i%2 != 0 :\n",
    "            n.append(i)\n",
    "    return n"
   ]
  },
  {
   "cell_type": "code",
   "execution_count": 2,
   "id": "3ecf916f-d13f-4281-9753-4958dfa61b88",
   "metadata": {},
   "outputs": [
    {
     "data": {
      "text/plain": [
       "[1, 3, 5, 7, 9, 11, 13, 15, 17, 19, 21, 23]"
      ]
     },
     "execution_count": 2,
     "metadata": {},
     "output_type": "execute_result"
    }
   ],
   "source": [
    "odd(25)"
   ]
  },
  {
   "cell_type": "markdown",
   "id": "b2aa086a-5572-4a9f-907a-caf1e8597c61",
   "metadata": {},
   "source": [
    "Q2. Why *args and **kwargs is used in some functions? Create a function each for *args and **kwargs to\n",
    "demonstrate their use."
   ]
  },
  {
   "cell_type": "markdown",
   "id": "9eb68e27-2a5f-49e6-8f19-603c1caa0e75",
   "metadata": {},
   "source": [
    "A2. *args and ** kwargs are used in python functions to allow for a variable number of arguments\n",
    "*args accepts a tuple of non-keyword arguments, while **kwargs accepts a dictionary of keywork arguments."
   ]
  },
  {
   "cell_type": "code",
   "execution_count": 11,
   "id": "3ea2d168-64bb-4844-9757-680c8ac97bf3",
   "metadata": {},
   "outputs": [],
   "source": [
    "#add all the numbers in the list\n",
    "def test(*args):\n",
    "    sum = 0\n",
    "    for i in args:\n",
    "        sum = sum + i\n",
    "    return sum"
   ]
  },
  {
   "cell_type": "code",
   "execution_count": 12,
   "id": "09378305-db2b-47b2-8c2f-839fbd4ba088",
   "metadata": {},
   "outputs": [
    {
     "data": {
      "text/plain": [
       "55"
      ]
     },
     "execution_count": 12,
     "metadata": {},
     "output_type": "execute_result"
    }
   ],
   "source": [
    "test(1,2,3,4,5,6,7,8,9,10)"
   ]
  },
  {
   "cell_type": "code",
   "execution_count": 13,
   "id": "8fdf4c2e-dcba-4cf8-8699-3019fa5bb08a",
   "metadata": {},
   "outputs": [],
   "source": [
    "def test1(**kwargs):\n",
    "    return kwargs"
   ]
  },
  {
   "cell_type": "code",
   "execution_count": 14,
   "id": "0afd1412-1e73-42ed-96a8-f590113bc745",
   "metadata": {},
   "outputs": [
    {
     "data": {
      "text/plain": [
       "{'a': 32, 'b': 45, 'c': 67, 'd': 98}"
      ]
     },
     "execution_count": 14,
     "metadata": {},
     "output_type": "execute_result"
    }
   ],
   "source": [
    "test1(a=32,b=45,c=67,d=98)"
   ]
  },
  {
   "cell_type": "markdown",
   "id": "fda07355-a4d0-46b1-a3d9-c38214e7c014",
   "metadata": {},
   "source": [
    "Q3. What is an iterator in python? Name the method used to initialise the iterator object and the method\n",
    "used for iteration. Use these methods to print the first five elements of the given list [2, 4, 6, 8, 10, 12, 14, 16,\n",
    "18, 20]."
   ]
  },
  {
   "cell_type": "markdown",
   "id": "254019d4-b661-439f-b88a-c1461b1bbd69",
   "metadata": {},
   "source": [
    "A3. \n",
    "An iterator in Python is an object that can be used to iterate over a sequence of elements. Iterators are implemented using two methods:\n",
    "\n",
    "__iter__(): This method returns an iterator object.\n",
    "__next__(): This method returns the next element in the sequence, or raises a StopIteration exception if there are no more elements in the sequence."
   ]
  },
  {
   "cell_type": "code",
   "execution_count": 17,
   "id": "79d6837b-daee-43d8-9e36-d8ffe3008e8c",
   "metadata": {},
   "outputs": [
    {
     "name": "stdout",
     "output_type": "stream",
     "text": [
      "2\n",
      "4\n",
      "6\n",
      "8\n",
      "10\n"
     ]
    }
   ],
   "source": [
    "list1 = [2, 4, 6, 8, 10, 12, 14, 16, 18, 20]\n",
    "\n",
    "iterator = iter(list1)\n",
    "\n",
    "# Print the first five elements of the list.\n",
    "for i in range(5):\n",
    "    print(next(iterator))"
   ]
  },
  {
   "cell_type": "markdown",
   "id": "b37bd500-f062-4bd6-b2f8-6c9b8ac19c81",
   "metadata": {},
   "source": [
    "Q4.Q4. What is a generator function in python? Why yield keyword is used? Give an example of a generator\n",
    "function."
   ]
  },
  {
   "cell_type": "markdown",
   "id": "a745805a-30cd-4dd0-aabb-52bf8738ebf8",
   "metadata": {},
   "source": [
    "A4. Generator functions are useful for creating iterators, which are objects that can be used to iterate over a sequence of values."
   ]
  },
  {
   "cell_type": "code",
   "execution_count": 15,
   "id": "bdd5cd1e-10f4-426c-b4b2-2f9ea926dbe6",
   "metadata": {},
   "outputs": [],
   "source": [
    "def fib_series(x):\n",
    "    a,b = 0,1\n",
    "    for i in range(x):\n",
    "        yield a\n",
    "        a,b = b,a+b"
   ]
  },
  {
   "cell_type": "code",
   "execution_count": 16,
   "id": "62a6eb9f-f5ec-423f-866d-0ab03a075b8e",
   "metadata": {},
   "outputs": [
    {
     "data": {
      "text/plain": [
       "[0, 1, 1, 2, 3, 5, 8, 13, 21, 34, 55, 89, 144, 233, 377]"
      ]
     },
     "execution_count": 16,
     "metadata": {},
     "output_type": "execute_result"
    }
   ],
   "source": [
    "list(fib_series(15))"
   ]
  },
  {
   "cell_type": "markdown",
   "id": "a80e793d-a769-4e0c-8693-9a4e0e4f49af",
   "metadata": {},
   "source": [
    "Q5. Create a generator function for prime numbers less than 1000. Use the next() method to print the\n",
    "first 20 prime numbers."
   ]
  },
  {
   "cell_type": "code",
   "execution_count": 28,
   "id": "fb1c10ad-98ab-492c-b7f0-73ebadae1cad",
   "metadata": {},
   "outputs": [],
   "source": [
    "def Gen_Prime_Number(l):\n",
    "    n = []\n",
    "    for i in range(1,l):\n",
    "        c=0\n",
    "        for j in range(2,(i//2+1)):\n",
    "            if i%j == 0:\n",
    "                c +=1\n",
    "                break\n",
    "        if c==0 and i!=1:\n",
    "            n.append(i)\n",
    "            yield n\n",
    "    "
   ]
  },
  {
   "cell_type": "code",
   "execution_count": 33,
   "id": "4de7e03d-dbd6-405d-b682-58728ce50dc1",
   "metadata": {},
   "outputs": [
    {
     "name": "stdout",
     "output_type": "stream",
     "text": [
      "2\n",
      "3\n",
      "5\n",
      "7\n",
      "11\n",
      "13\n",
      "17\n",
      "19\n",
      "23\n",
      "29\n",
      "31\n",
      "37\n",
      "41\n",
      "43\n",
      "47\n",
      "53\n",
      "59\n",
      "61\n",
      "67\n",
      "71\n"
     ]
    }
   ],
   "source": [
    "l1 = list(Gen_Prime_Number(1000))\n",
    "l2 = l1[0]\n",
    "iterator = iter(l2)\n",
    "\n",
    "for i in range(20):\n",
    "    print(next(iterator))\n"
   ]
  }
 ],
 "metadata": {
  "kernelspec": {
   "display_name": "Python 3 (ipykernel)",
   "language": "python",
   "name": "python3"
  },
  "language_info": {
   "codemirror_mode": {
    "name": "ipython",
    "version": 3
   },
   "file_extension": ".py",
   "mimetype": "text/x-python",
   "name": "python",
   "nbconvert_exporter": "python",
   "pygments_lexer": "ipython3",
   "version": "3.10.8"
  }
 },
 "nbformat": 4,
 "nbformat_minor": 5
}
